{
 "cells": [
  {
   "cell_type": "code",
   "execution_count": 1,
   "id": "235e77f2",
   "metadata": {
    "_cell_guid": "b1076dfc-b9ad-4769-8c92-a6c4dae69d19",
    "_uuid": "8f2839f25d086af736a60e9eeb907d3b93b6e0e5",
    "execution": {
     "iopub.execute_input": "2025-02-14T14:37:19.842853Z",
     "iopub.status.busy": "2025-02-14T14:37:19.841415Z",
     "iopub.status.idle": "2025-02-14T14:37:25.255650Z",
     "shell.execute_reply": "2025-02-14T14:37:25.254322Z"
    },
    "papermill": {
     "duration": 5.419607,
     "end_time": "2025-02-14T14:37:25.257579",
     "exception": false,
     "start_time": "2025-02-14T14:37:19.837972",
     "status": "completed"
    },
    "tags": []
   },
   "outputs": [
    {
     "name": "stdout",
     "output_type": "stream",
     "text": [
      "/kaggle/input/dataset/sample_submission.csv\n",
      "/kaggle/input/dataset/data_dictionary.csv\n",
      "/kaggle/input/dataset/train.csv\n",
      "/kaggle/input/dataset/test.csv\n",
      "/kaggle/input/equity-post-HCT-survival-predictions/sample_submission.csv\n",
      "/kaggle/input/equity-post-HCT-survival-predictions/data_dictionary.csv\n",
      "/kaggle/input/equity-post-HCT-survival-predictions/train.csv\n",
      "/kaggle/input/equity-post-HCT-survival-predictions/test.csv\n",
      "Encountered an error during training/prediction. Using dummy predictions instead.\n",
      "Error: No target column found in training data. Expected 'Survival' or 'target'.\n",
      "Submission file 'submission.csv' created successfully!\n"
     ]
    }
   ],
   "source": [
    "# This Python 3 environment comes with many helpful analytics libraries installed\n",
    "# It is defined by the kaggle/python Docker image: https://github.com/kaggle/docker-python\n",
    "# For example, here's several helpful packages to load\n",
    "\n",
    "import numpy as np # linear algebra\n",
    "import pandas as pd # data processing, CSV file I/O (e.g. pd.read_csv)\n",
    "\n",
    "# Input data files are available in the read-only \"../input/\" directory\n",
    "# For example, running this (by clicking run or pressing Shift+Enter) will list all files under the input directory\n",
    "\n",
    "import os\n",
    "for dirname, _, filenames in os.walk('/kaggle/input'):\n",
    "    for filename in filenames:\n",
    "        print(os.path.join(dirname, filename))\n",
    "\n",
    "# You can write up to 20GB to the current directory (/kaggle/working/) that gets preserved as output when you create a version using \"Save & Run All\" \n",
    "# You can also write temporary files to /kaggle/temp/, but they won't be saved outside of the current session\n",
    "\n",
    "import pandas as pd\n",
    "import numpy as np\n",
    "from sklearn.linear_model import LogisticRegression\n",
    "\n",
    "# -----------------------\n",
    "# File paths\n",
    "# -----------------------\n",
    "sample_submission_path = '/kaggle/input/equity-post-HCT-survival-predictions/sample_submission.csv'\n",
    "train_path = '/kaggle/input/equity-post-HCT-survival-predictions/train.csv'\n",
    "test_path = '/kaggle/input/equity-post-HCT-survival-predictions/test.csv'\n",
    "\n",
    "# -----------------------\n",
    "# Read the sample submission to get correct format & id column\n",
    "# -----------------------\n",
    "submission_df = pd.read_csv(sample_submission_path)\n",
    "\n",
    "# -----------------------\n",
    "# Load test dataset\n",
    "# -----------------------\n",
    "test_df = pd.read_csv(test_path)\n",
    "\n",
    "# -----------------------\n",
    "# Training & Prediction Block\n",
    "# -----------------------\n",
    "try:\n",
    "    # Load training data\n",
    "    train_df = pd.read_csv(train_path)\n",
    "    \n",
    "    # Determine target column (using \"Survival\" since \"target\" is not present)\n",
    "    if 'Survival' in train_df.columns:\n",
    "        target_col = 'Survival'\n",
    "    elif 'target' in train_df.columns:\n",
    "        target_col = 'target'\n",
    "    else:\n",
    "        raise ValueError(\"No target column found in training data. Expected 'Survival' or 'target'.\")\n",
    "    \n",
    "    # Identify potential ID columns to exclude (adjust if necessary)\n",
    "    id_cols = ['id', 'ID', 'Id', 'CohortId']\n",
    "    \n",
    "    # Define features: all columns except the target and any id columns\n",
    "    features = [col for col in train_df.columns if col not in id_cols + [target_col]]\n",
    "    \n",
    "    # Prepare training data\n",
    "    X_train = train_df[features]\n",
    "    y_train = train_df[target_col]\n",
    "    \n",
    "    # Prepare test data (assuming test_df has the same feature columns)\n",
    "    X_test = test_df[features]\n",
    "    \n",
    "    # Initialize and train a logistic regression model\n",
    "    model = LogisticRegression(max_iter=1000)\n",
    "    model.fit(X_train, y_train)\n",
    "    \n",
    "    # Generate prediction probabilities for the positive class\n",
    "    predictions = model.predict_proba(X_test)[:, 1]\n",
    "    \n",
    "except Exception as e:\n",
    "    print(\"Encountered an error during training/prediction. Using dummy predictions instead.\")\n",
    "    print(\"Error:\", e)\n",
    "    # Fallback: use dummy predictions (constant probability 0.5 for each test sample)\n",
    "    predictions = np.full(shape=len(test_df), fill_value=0.5)\n",
    "\n",
    "# -----------------------\n",
    "# Create Submission\n",
    "# -----------------------\n",
    "# Use the id column from the sample submission file to ensure proper format.\n",
    "submission = submission_df.copy()\n",
    "submission['Survival'] = predictions\n",
    "\n",
    "# Save the submission file\n",
    "submission.to_csv('submission.csv', index=False)\n",
    "print(\"Submission file 'submission.csv' created successfully!\")\n"
   ]
  },
  {
   "cell_type": "code",
   "execution_count": null,
   "id": "c91cfc42",
   "metadata": {
    "papermill": {
     "duration": 0.001181,
     "end_time": "2025-02-14T14:37:25.260848",
     "exception": false,
     "start_time": "2025-02-14T14:37:25.259667",
     "status": "completed"
    },
    "tags": []
   },
   "outputs": [],
   "source": []
  }
 ],
 "metadata": {
  "kaggle": {
   "accelerator": "none",
   "dataSources": [
    {
     "databundleVersionId": 10381525,
     "sourceId": 70942,
     "sourceType": "competition"
    },
    {
     "datasetId": 6656329,
     "sourceId": 10735337,
     "sourceType": "datasetVersion"
    }
   ],
   "dockerImageVersionId": 30886,
   "isGpuEnabled": false,
   "isInternetEnabled": false,
   "language": "python",
   "sourceType": "notebook"
  },
  "kernelspec": {
   "display_name": "Python 3",
   "language": "python",
   "name": "python3"
  },
  "language_info": {
   "codemirror_mode": {
    "name": "ipython",
    "version": 3
   },
   "file_extension": ".py",
   "mimetype": "text/x-python",
   "name": "python",
   "nbconvert_exporter": "python",
   "pygments_lexer": "ipython3",
   "version": "3.10.12"
  },
  "papermill": {
   "default_parameters": {},
   "duration": 10.151246,
   "end_time": "2025-02-14T14:37:26.491183",
   "environment_variables": {},
   "exception": null,
   "input_path": "__notebook__.ipynb",
   "output_path": "__notebook__.ipynb",
   "parameters": {},
   "start_time": "2025-02-14T14:37:16.339937",
   "version": "2.6.0"
  }
 },
 "nbformat": 4,
 "nbformat_minor": 5
}
