{
 "cells": [
  {
   "cell_type": "code",
   "execution_count": 2,
   "id": "7331c2fa-9318-42fe-94cc-1c4c8f6d502f",
   "metadata": {},
   "outputs": [
    {
     "name": "stdout",
     "output_type": "stream",
     "text": [
      "Explained variance ratio: [0.49275381 0.19886847 0.13504174 0.124614  ]\n"
     ]
    }
   ],
   "source": [
    "import pandas as pd\n",
    "from sklearn.preprocessing import StandardScaler\n",
    "from sklearn.decomposition import PCA\n",
    "\n",
    "# Load the data\n",
    "file_path = (\"C:/Users/user/OneDrive - ITtechnology/Documents/assignment docs.xlsx\")  \n",
    "df = pd.read_excel(file_path)\n",
    "\n",
    "# Preprocess the data (drop missing values and scale)\n",
    "df = df.dropna()  # Handle missing data as needed\n",
    "scaler = StandardScaler()\n",
    "df_scaled = scaler.fit_transform(df)\n",
    "\n",
    "# Apply PCA (e.g., keeping 95% of the variance)\n",
    "pca = PCA(n_components=0.95)\n",
    "pca_result = pca.fit_transform(df_scaled)\n",
    "\n",
    "# Convert the result to a DataFrame\n",
    "pca_df = pd.DataFrame(pca_result)\n",
    "\n",
    "# Print the explained variance ratio\n",
    "print(f\"Explained variance ratio: {pca.explained_variance_ratio_}\")\n",
    "\n",
    "# Save the transformed data to a new Excel file\n",
    "pca_df.to_excel('transformed_data.xlsx', index=False)\n"
   ]
  },
  {
   "cell_type": "code",
   "execution_count": 3,
   "id": "368378d6-d784-4592-aa91-f1200abd01a7",
   "metadata": {},
   "outputs": [
    {
     "data": {
      "text/html": [
       "<div>\n",
       "<style scoped>\n",
       "    .dataframe tbody tr th:only-of-type {\n",
       "        vertical-align: middle;\n",
       "    }\n",
       "\n",
       "    .dataframe tbody tr th {\n",
       "        vertical-align: top;\n",
       "    }\n",
       "\n",
       "    .dataframe thead th {\n",
       "        text-align: right;\n",
       "    }\n",
       "</style>\n",
       "<table border=\"1\" class=\"dataframe\">\n",
       "  <thead>\n",
       "    <tr style=\"text-align: right;\">\n",
       "      <th></th>\n",
       "      <th>0</th>\n",
       "      <th>1</th>\n",
       "      <th>2</th>\n",
       "      <th>3</th>\n",
       "    </tr>\n",
       "  </thead>\n",
       "  <tbody>\n",
       "    <tr>\n",
       "      <th>0</th>\n",
       "      <td>0.172473</td>\n",
       "      <td>0.660221</td>\n",
       "      <td>1.242069</td>\n",
       "      <td>0.538108</td>\n",
       "    </tr>\n",
       "    <tr>\n",
       "      <th>1</th>\n",
       "      <td>-0.990781</td>\n",
       "      <td>-0.739210</td>\n",
       "      <td>-0.794403</td>\n",
       "      <td>0.132680</td>\n",
       "    </tr>\n",
       "    <tr>\n",
       "      <th>2</th>\n",
       "      <td>-0.475219</td>\n",
       "      <td>-0.824241</td>\n",
       "      <td>1.876916</td>\n",
       "      <td>-1.739917</td>\n",
       "    </tr>\n",
       "    <tr>\n",
       "      <th>3</th>\n",
       "      <td>-0.375763</td>\n",
       "      <td>1.810484</td>\n",
       "      <td>-0.511125</td>\n",
       "      <td>-0.563622</td>\n",
       "    </tr>\n",
       "    <tr>\n",
       "      <th>4</th>\n",
       "      <td>-0.116570</td>\n",
       "      <td>-0.063303</td>\n",
       "      <td>-0.770936</td>\n",
       "      <td>-0.149353</td>\n",
       "    </tr>\n",
       "  </tbody>\n",
       "</table>\n",
       "</div>"
      ],
      "text/plain": [
       "          0         1         2         3\n",
       "0  0.172473  0.660221  1.242069  0.538108\n",
       "1 -0.990781 -0.739210 -0.794403  0.132680\n",
       "2 -0.475219 -0.824241  1.876916 -1.739917\n",
       "3 -0.375763  1.810484 -0.511125 -0.563622\n",
       "4 -0.116570 -0.063303 -0.770936 -0.149353"
      ]
     },
     "execution_count": 3,
     "metadata": {},
     "output_type": "execute_result"
    }
   ],
   "source": [
    "pca_df.head()"
   ]
  },
  {
   "cell_type": "code",
   "execution_count": null,
   "id": "f8d7eb10-47f1-4175-9069-b5f1f484bfe2",
   "metadata": {},
   "outputs": [],
   "source": []
  }
 ],
 "metadata": {
  "kernelspec": {
   "display_name": "Python 3 (ipykernel)",
   "language": "python",
   "name": "python3"
  },
  "language_info": {
   "codemirror_mode": {
    "name": "ipython",
    "version": 3
   },
   "file_extension": ".py",
   "mimetype": "text/x-python",
   "name": "python",
   "nbconvert_exporter": "python",
   "pygments_lexer": "ipython3",
   "version": "3.11.4"
  }
 },
 "nbformat": 4,
 "nbformat_minor": 5
}
